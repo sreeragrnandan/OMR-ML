{
 "cells": [
  {
   "cell_type": "code",
   "execution_count": 2,
   "metadata": {},
   "outputs": [],
   "source": [
    "import tensorflow as tf\n",
    "from tensorflow import keras\n",
    "# from tensorflow.keras.preprocessing.image import ImageDataGenerator"
   ]
  },
  {
   "cell_type": "code",
   "execution_count": 3,
   "metadata": {},
   "outputs": [],
   "source": [
    "import os"
   ]
  },
  {
   "cell_type": "code",
   "execution_count": 4,
   "metadata": {},
   "outputs": [],
   "source": [
    "PATH = os.path.join(os.path.abspath('sample'), 'train_test')\n",
    "train_dir = os.path.join(PATH, 'train')\n",
    "test_dir = os.path.join(PATH, 'test')"
   ]
  },
  {
   "cell_type": "code",
   "execution_count": 5,
   "metadata": {},
   "outputs": [],
   "source": [
    "train_a_dir = os.path.join(train_dir, 'a')  # directory with our training a pictures\n",
    "train_b_dir = os.path.join(train_dir, 'b')  # directory with our training b pictures\n",
    "test_a_dir = os.path.join(test_dir, 'a')  # directory with our test a pictures\n",
    "test_b_dir = os.path.join(test_dir, 'b')  # directory with our test b pictures"
   ]
  },
  {
   "cell_type": "code",
   "execution_count": 11,
   "metadata": {},
   "outputs": [],
   "source": [
    "# train_image_generator = ImageDataGenerator(rescale=1./255) # Generator for our training data\n",
    "# test_image_generator = ImageDataGenerator(rescale=1./255) # Generator for our test data\n",
    "num_a_tr = len(os.listdir(train_a_dir))\n",
    "num_b_tr = len(os.listdir(train_b_dir))\n",
    "\n",
    "num_a_te = len(os.listdir(test_a_dir))\n",
    "num_b_te = len(os.listdir(test_b_dir))\n",
    "\n",
    "total_train = num_a_tr + num_b_tr\n",
    "total_te = num_a_te + num_b_te\n",
    "\n",
    "batch_size = 128\n",
    "epochs = 15"
   ]
  },
  {
   "cell_type": "code",
   "execution_count": null,
   "metadata": {},
   "outputs": [],
   "source": [
    "model = keras.Sequential([\n",
    "    keras.layers.Flatten(input_shape=(350, 200)),\n",
    "    keras.layers.Dense(128, activation='relu'),\n",
    "    keras.layers.Dense(2, activation='softmax')\n",
    "])"
   ]
  },
  {
   "cell_type": "code",
   "execution_count": 9,
   "metadata": {},
   "outputs": [
    {
     "data": {
      "text/plain": [
       "177"
      ]
     },
     "execution_count": 9,
     "metadata": {},
     "output_type": "execute_result"
    }
   ],
   "source": [
    "history = model.fit_generator(\n",
    "    train_dir,\n",
    "    steps_per_epoch=total_train // batch_size,\n",
    "    epochs=epochs,\n",
    "    validation_data=train_dir,\n",
    "    validation_steps=total_val // batch_size\n",
    ")"
   ]
  }
 ],
 "metadata": {
  "kernelspec": {
   "display_name": "Python 3",
   "language": "python",
   "name": "python3"
  },
  "language_info": {
   "codemirror_mode": {
    "name": "ipython",
    "version": 3
   },
   "file_extension": ".py",
   "mimetype": "text/x-python",
   "name": "python",
   "nbconvert_exporter": "python",
   "pygments_lexer": "ipython3",
   "version": "3.7.4"
  }
 },
 "nbformat": 4,
 "nbformat_minor": 2
}
